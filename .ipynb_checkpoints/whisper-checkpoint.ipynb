{
 "cells": [
  {
   "cell_type": "markdown",
   "id": "ac72e9e0",
   "metadata": {},
   "source": [
    "## from this page:\n",
    "https://qiita.com/kunishou/items/814e837cf504ce287a13\n",
    "https://github.com/kunishou/Talking_Robot/blob/main/01_whisper_test.ipynb"
   ]
  },
  {
   "cell_type": "code",
   "execution_count": 1,
   "id": "cf38ecde",
   "metadata": {},
   "outputs": [],
   "source": [
    "!pip install -q git+https://github.com/openai/whisper.git"
   ]
  },
  {
   "cell_type": "code",
   "execution_count": 13,
   "id": "a171a29d",
   "metadata": {},
   "outputs": [
    {
     "name": "stderr",
     "output_type": "stream",
     "text": [
      "100%|███████████████████████████████████████| 139M/139M [00:12<00:00, 11.7MiB/s]\n"
     ]
    }
   ],
   "source": [
    "import whisper\n",
    "\n",
    "#model = whisper.load_model(\"tiny\")\n",
    "#model = whisper.load_model(\"base\")\n",
    "model = whisper.load_model(\"small\")"
   ]
  },
  {
   "cell_type": "code",
   "execution_count": 14,
   "id": "b1fb7f7b",
   "metadata": {},
   "outputs": [
    {
     "name": "stderr",
     "output_type": "stream",
     "text": [
      "/Users/nori/.pyenv/versions/3.9.16/lib/python3.9/site-packages/whisper/transcribe.py:126: UserWarning: FP16 is not supported on CPU; using FP32 instead\n",
      "  warnings.warn(\"FP16 is not supported on CPU; using FP32 instead\")\n"
     ]
    },
    {
     "name": "stdout",
     "output_type": "stream",
     "text": [
      "[00:00.000 --> 00:02.000] また、会話に来てある。\n",
      "[00:02.000 --> 00:04.000] 何枚はまだない。\n",
      "また、会話に来てある。何枚はまだない。\n"
     ]
    }
   ],
   "source": [
    "result = model.transcribe(\"neko.wav\", verbose=True, language=\"ja\")\n",
    "print(result[\"text\"])"
   ]
  },
  {
   "cell_type": "code",
   "execution_count": null,
   "id": "0683786f",
   "metadata": {},
   "outputs": [],
   "source": []
  }
 ],
 "metadata": {
  "kernelspec": {
   "display_name": "Python 3 (ipykernel)",
   "language": "python",
   "name": "python3"
  },
  "language_info": {
   "codemirror_mode": {
    "name": "ipython",
    "version": 3
   },
   "file_extension": ".py",
   "mimetype": "text/x-python",
   "name": "python",
   "nbconvert_exporter": "python",
   "pygments_lexer": "ipython3",
   "version": "3.9.16"
  }
 },
 "nbformat": 4,
 "nbformat_minor": 5
}
