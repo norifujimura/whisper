{
 "cells": [
  {
   "cell_type": "markdown",
   "id": "89b97478",
   "metadata": {},
   "source": [
    "based on the code here https://qiita.com/daiarg/items/ff1b9f91d0804e6a8f18\n",
    "here's reference https://github.com/Uberi/speech_recognition/blob/master/reference/library-reference.rst"
   ]
  },
  {
   "cell_type": "code",
   "execution_count": null,
   "id": "187ff053",
   "metadata": {},
   "outputs": [
    {
     "name": "stdout",
     "output_type": "stream",
     "text": [
      "Say something ...\n"
     ]
    }
   ],
   "source": [
    "import speech_recognition as sr\n",
    "\n",
    "r = sr.Recognizer()\n",
    "mic = sr.Microphone()\n",
    "r.pause_threshold = 0.5\n",
    "r.energy_threshold = 200 # up to 4000\n",
    "\n",
    "while True:\n",
    "    print(\"Say something ...\")\n",
    "\n",
    "    with mic as source:\n",
    "        r.adjust_for_ambient_noise(source) #雑音対策\n",
    "        audio = r.listen(source)\n",
    "\n",
    "    print (\"Now to recognize it...\")\n",
    "\n",
    "    try:\n",
    "        print(r.recognize_google(audio, language='ja-JP'))\n",
    "\n",
    "        # \"ストップ\" と言ったら音声認識を止める\n",
    "        if r.recognize_google(audio, language='ja-JP') == \"ストップ\" :\n",
    "            print(\"end\")\n",
    "            break\n",
    "\n",
    "    # 以下は認識できなかったときに止まらないように。\n",
    "    except sr.UnknownValueError:\n",
    "        print(\"could not understand audio\")\n",
    "    except sr.RequestError as e:\n",
    "        print(\"Could not request results from Google Speech Recognition service; {0}\".format(e))\n"
   ]
  },
  {
   "cell_type": "code",
   "execution_count": null,
   "id": "ddad2559",
   "metadata": {},
   "outputs": [],
   "source": []
  }
 ],
 "metadata": {
  "kernelspec": {
   "display_name": "Python 3 (ipykernel)",
   "language": "python",
   "name": "python3"
  },
  "language_info": {
   "codemirror_mode": {
    "name": "ipython",
    "version": 3
   },
   "file_extension": ".py",
   "mimetype": "text/x-python",
   "name": "python",
   "nbconvert_exporter": "python",
   "pygments_lexer": "ipython3",
   "version": "3.9.16"
  }
 },
 "nbformat": 4,
 "nbformat_minor": 5
}
